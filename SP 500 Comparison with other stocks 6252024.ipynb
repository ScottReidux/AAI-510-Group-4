{
 "cells": [
  {
   "cell_type": "code",
   "execution_count": 1,
   "metadata": {},
   "outputs": [
    {
     "name": "stderr",
     "output_type": "stream",
     "text": [
      "c:\\Users\\pmall\\anaconda4\\Lib\\site-packages\\pandas\\core\\arrays\\masked.py:60: UserWarning: Pandas requires version '1.3.6' or newer of 'bottleneck' (version '1.3.5' currently installed).\n",
      "  from pandas.core import (\n",
      "[*********************100%%**********************]  20 of 20 completed\n",
      "[*********************100%%**********************]  1 of 1 completed"
     ]
    },
    {
     "name": "stdout",
     "output_type": "stream",
     "text": [
      "Stocks that performed better than the S&P 500 from 2014 to 2024:\n",
      "Ticker\n",
      "AAPL      1011.686759\n",
      "AMD       3631.898782\n",
      "AMZN       663.575139\n",
      "GOOG       408.330600\n",
      "GOOGL      401.474436\n",
      "HPQ        222.939383\n",
      "META       546.974967\n",
      "MSFT      1101.757924\n",
      "NVDA     13138.616066\n",
      "TSLA      2383.144411\n",
      "dtype: float64\n",
      "\n",
      "S&P 500 Percentage Change: 160.36%\n"
     ]
    },
    {
     "name": "stderr",
     "output_type": "stream",
     "text": [
      "\n"
     ]
    }
   ],
   "source": [
    "#  S&P 500 comparison with other high performing stocks\n",
    "\n",
    "import yfinance as yf\n",
    "import pandas as pd\n",
    "\n",
    "# Define the list of stock tickers\n",
    "tickers = ['AAPL', 'GOOGL', 'GOOG', 'NVDA', 'AMZN', 'DASH', 'MSFT', 'UBER', 'TSLA', 'AMD', 'HPQ', 'DELL', 'META', 'SNOW', 'HOOD', 'PTON', 'AFRM', 'ROKU', 'WISH', 'TOST']\n",
    "index_ticker = '^GSPC'  # S&P 500\n",
    "\n",
    "# Define the date range\n",
    "start_date = '2014-01-01'\n",
    "end_date = '2024-01-01'\n",
    "\n",
    "# Function to calculate percentage change\n",
    "def calculate_percentage_change(data):\n",
    "    return ((data.iloc[-1] - data.iloc[0]) / data.iloc[0]) * 100\n",
    "\n",
    "# Download the historical data for the stocks\n",
    "data = yf.download(tickers, start=start_date, end=end_date)['Adj Close']\n",
    "\n",
    "# Download the historical data for the S&P 500 index\n",
    "sp500_data = yf.download(index_ticker, start=start_date, end=end_date)['Adj Close']\n",
    "\n",
    "# Calculate the percentage change over the entire period for each stock\n",
    "percentage_change = data.apply(calculate_percentage_change)\n",
    "\n",
    "# Calculate the percentage change over the entire period for the S&P 500 index\n",
    "sp500_change = calculate_percentage_change(sp500_data)\n",
    "\n",
    "# Compare each stock's performance to the S&P 500\n",
    "better_than_sp500 = percentage_change[percentage_change > sp500_change]\n",
    "\n",
    "# Display the results\n",
    "print(\"Stocks that performed better than the S&P 500 from 2014 to 2024:\")\n",
    "print(better_than_sp500)\n",
    "print(f\"\\nS&P 500 Percentage Change: {sp500_change:.2f}%\")"
   ]
  }
 ],
 "metadata": {
  "kernelspec": {
   "display_name": "Python 3",
   "language": "python",
   "name": "python3"
  },
  "language_info": {
   "codemirror_mode": {
    "name": "ipython",
    "version": 3
   },
   "file_extension": ".py",
   "mimetype": "text/x-python",
   "name": "python",
   "nbconvert_exporter": "python",
   "pygments_lexer": "ipython3",
   "version": "3.11.5"
  }
 },
 "nbformat": 4,
 "nbformat_minor": 2
}
